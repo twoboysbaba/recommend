{
 "cells": [
  {
   "cell_type": "code",
   "execution_count": 11,
   "metadata": {},
   "outputs": [
    {
     "name": "stdout",
     "output_type": "stream",
     "text": [
      "{'spInd': 0, 'spVal': 5.0, 'left': {'spInd': 0, 'spVal': 7.0, 'left': {'spInd': 0, 'spVal': 8.0, 'left': {'spInd': 0, 'spVal': 9.0, 'left': 9.0, 'right': 8.7}, 'right': 8.23}, 'right': {'spInd': 0, 'spVal': 6.0, 'left': 7.9, 'right': 7.05}}, 'right': {'spInd': 0, 'spVal': 3.0, 'left': {'spInd': 0, 'spVal': 4.0, 'left': 5.8, 'right': 5.34}, 'right': {'spInd': 0, 'spVal': 1.0, 'left': {'spInd': 0, 'spVal': 2.0, 'left': 4.91, 'right': 4.75}, 'right': 4.5}}}\n"
     ]
    },
    {
     "data": {
      "image/png": "[encoded data removed]",
      "text/plain": [
       "<Figure size 432x288 with 1 Axes>"
      ]
     },
     "metadata": {
      "needs_background": "light"
     },
     "output_type": "display_data"
    }
   ],
   "source": [
    "'''\n",
    "Reference：\n",
    "[1] https://blog.csdn.net/sinat_17196995/article/details/69621687\n",
    "[2] GitHub: https://github.com/stonycat/ML-in-Action-Code-and-Note\n",
    "'''\n",
    "from numpy import *\n",
    "\n",
    "\n",
    "# 载入数据\n",
    "def loadDataSet(fileName):\n",
    "    dataMat = []\n",
    "    fr = open(fileName)\n",
    "    for line in fr.readlines():\n",
    "        curLine = line.strip().split('\\t')\n",
    "        # python3不适用：fltLine = map(float,curLine) 修改为：\n",
    "        fltLine = list(map(float, curLine))  # 将每行映射成浮点数，python3返回值改变，所以需要\n",
    "        dataMat.append(fltLine)\n",
    "    return dataMat\n",
    "\n",
    "\n",
    "# 切分数据集为两个子集\n",
    "def binSplitDataSet(dataSet, feature, value):  # 数据集 待切分特征 特征值\n",
    "    mat0 = dataSet[nonzero(dataSet[:, feature] > value)[0], :]\n",
    "    mat1 = dataSet[nonzero(dataSet[:, feature] <= value)[0], :]\n",
    "    # 下面原书代码报错 index 0 is out of bounds,使用上面两行代码\n",
    "    # mat0 = dataSet[nonzero(dataSet[:, feature] > value)[0], :][0]\n",
    "    # mat1 = dataSet[nonzero(dataSet[:, feature] <= value)[0], :][0]\n",
    "    return mat0, mat1\n",
    "\n",
    "\n",
    "# Tree结点类型：回归树\n",
    "def regLeaf(dataSet):  # 生成叶结点，在回归树中是目标变量特征的均值\n",
    "    return mean(dataSet[:, -1])\n",
    "\n",
    "\n",
    "# 误差计算函数：回归误差\n",
    "def regErr(dataSet):  # 计算目标的平方误差（均方误差*总样本数）\n",
    "    return var(dataSet[:, -1]) * shape(dataSet)[0]\n",
    "\n",
    "\n",
    "# 二元切分\n",
    "def chooseBestSplit(dataSet, leafType=regLeaf, errType=regErr, ops=(0, 1)):\n",
    "    # 切分特征的参数阈值，用户初始设置好\n",
    "    tolS = ops[0]  # 允许的误差下降值\n",
    "    tolN = ops[1]  # 切分的最小样本数\n",
    "    # 若所有特征值都相同，停止切分\n",
    "    if len(set(dataSet[:, -1].T.tolist()[0])) == 1:  # 倒数第一列转化成list 不重复\n",
    "        return None, leafType(dataSet)  # 如果剩余特征数为1，停止切分1。\n",
    "        # 找不到好的切分特征，调用regLeaf直接生成叶结点\n",
    "    m, n = shape(dataSet)\n",
    "    S = errType(dataSet)  # 最好的特征通过计算平均误差\n",
    "    bestS = inf\n",
    "    bestIndex = 0\n",
    "    bestValue = 0\n",
    "    for featIndex in range(n - 1):  # 遍历数据的每个属性特征\n",
    "        # for splitVal in set(dataSet[:,featIndex]): python3报错修改为下面\n",
    "        for splitVal in set((dataSet[:, featIndex].T.A.tolist())[0]):  # 遍历每个特征里不同的特征值\n",
    "            mat0, mat1 = binSplitDataSet(dataSet, featIndex, splitVal)  # 对每个特征进行二元分类\n",
    "            if (shape(mat0)[0] < tolN) or (shape(mat1)[0] < tolN): continue\n",
    "            newS = errType(mat0) + errType(mat1)\n",
    "            if newS < bestS:  # 更新为误差最小的特征\n",
    "                bestIndex = featIndex\n",
    "                bestValue = splitVal\n",
    "                bestS = newS\n",
    "    # 如果切分后误差效果下降不大，则取消切分，直接创建叶结点\n",
    "    if (S - bestS) < tolS:\n",
    "        return None, leafType(dataSet)  # 停止切分2\n",
    "    mat0, mat1 = binSplitDataSet(dataSet, bestIndex, bestValue)\n",
    "    # 判断切分后子集大小，小于最小允许样本数停止切分3\n",
    "    if (shape(mat0)[0] < tolN) or (shape(mat1)[0] < tolN):\n",
    "        return None, leafType(dataSet)\n",
    "    return bestIndex, bestValue  # 返回特征编号和用于切分的特征值\n",
    "\n",
    "\n",
    "# 构建tree\n",
    "def createTree(dataSet, leafType=regLeaf, errType=regErr, ops=(0, 1)):\n",
    "    # 数据集默认NumPy Mat 其他可选参数【结点类型：回归树，误差计算函数，ops包含树构建所需的其他元组】\n",
    "    feat, val = chooseBestSplit(dataSet, leafType, errType, ops)\n",
    "    if feat == None: return val  # 满足停止条件时返回叶结点值\n",
    "    # 切分后赋值\n",
    "    retTree = {}\n",
    "    retTree['spInd'] = feat\n",
    "    retTree['spVal'] = val\n",
    "    # 切分后的左右子树\n",
    "    lSet, rSet = binSplitDataSet(dataSet, feat, val)\n",
    "    retTree['left'] = createTree(lSet, leafType, errType, ops)\n",
    "    retTree['right'] = createTree(rSet, leafType, errType, ops)\n",
    "    return retTree\n",
    "\n",
    "if __name__ == \"__main__\":\n",
    "    myDat = mat(loadDataSet('5.2test.txt'))\n",
    "    print(createTree(myDat))\n",
    "\n",
    "    # 绘制数据点图\n",
    "    import matplotlib.pyplot as plt\n",
    "\n",
    "    plt.plot(myDat[:, 0], myDat[:, 1], 'ro')\n",
    "    plt.show()"
   ]
  },
  {
   "cell_type": "code",
   "execution_count": null,
   "metadata": {},
   "outputs": [],
   "source": []
  }
 ],
 "metadata": {
  "kernelspec": {
   "display_name": "Python [conda env:python37]",
   "language": "python",
   "name": "conda-env-python37-py"
  },
  "language_info": {
   "codemirror_mode": {
    "name": "ipython",
    "version": 3
   },
   "file_extension": ".py",
   "mimetype": "text/x-python",
   "name": "python",
   "nbconvert_exporter": "python",
   "pygments_lexer": "ipython3",
   "version": "3.7.2"
  }
 },
 "nbformat": 4,
 "nbformat_minor": 2
}
